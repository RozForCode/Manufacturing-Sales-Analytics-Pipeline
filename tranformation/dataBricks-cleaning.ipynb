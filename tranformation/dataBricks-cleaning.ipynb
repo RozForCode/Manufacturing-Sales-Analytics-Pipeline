{
 "cells": [
  {
   "cell_type": "code",
   "execution_count": null,
   "id": "3cbcd754",
   "metadata": {},
   "outputs": [
    {
     "name": "stdout",
     "output_type": "stream",
     "text": [
      "Sales data cleaned and saved successfully!\n"
     ]
    }
   ],
   "source": [
    "# databricks_cleaning_local_fixed.ipynb\n",
    "import pandas as pd\n",
    "from pyspark.sql import SparkSession\n",
    "from pyspark.sql.functions import col, to_date, round, lit, when, trim\n",
    "\n",
    "# Start Spark session\n",
    "spark = SparkSession.builder.appName(\"IKODataCleaning\").getOrCreate()\n",
    "\n",
    "# Load data\n",
    "sales = spark.read.csv(\"../raw-data/sales.csv\", header=True, inferSchema=True)\n",
    "products = spark.read.csv(\"../raw-data/products.csv\", header=True, inferSchema=True)\n",
    "regions = spark.read.csv(\"../raw-data/regions.csv\", header=True, inferSchema=True)\n",
    "\n",
    "# -----------------------------------------\n",
    "# Clean / format SaleDate safely\n",
    "# -----------------------------------------\n",
    "# Trim whitespace\n",
    "sales = sales.withColumn(\"SaleDate\", trim(col(\"SaleDate\")))\n",
    "\n",
    "# Keep only valid date strings (MM/dd/yyyy or yyyy-MM-dd)\n",
    "sales = sales.withColumn(\n",
    "    \"SaleDate\",\n",
    "    when(col(\"SaleDate\").rlike(r\"^\\d{1,2}/\\d{1,2}/\\d{4}$\"), col(\"SaleDate\"))  # MM/dd/yyyy\n",
    "    .when(col(\"SaleDate\").rlike(r\"^\\d{4}-\\d{1,2}-\\d{1,2}$\"), col(\"SaleDate\"))  # yyyy-MM-dd\n",
    "    .otherwise(lit(None))\n",
    ")\n",
    "\n",
    "# Convert to DateType (try both formats)\n",
    "sales = sales.withColumn(\n",
    "    \"SaleDate\",\n",
    "    to_date(col(\"SaleDate\"), \"MM/dd/yyyy\")\n",
    ")\n",
    "sales = sales.withColumn(\n",
    "    \"SaleDate\",\n",
    "    when(col(\"SaleDate\").isNull(), to_date(trim(col(\"SaleDate\")), \"yyyy-MM-dd\")).otherwise(col(\"SaleDate\"))\n",
    ")\n",
    "\n",
    "# -----------------------------------------\n",
    "# Alias for joins\n",
    "# -----------------------------------------\n",
    "sales_df = sales.alias(\"s\")\n",
    "products_df = products.alias(\"p\")\n",
    "\n",
    "# -----------------------------------------\n",
    "# Join product data for profitability metrics\n",
    "# -----------------------------------------\n",
    "sales_enriched = (\n",
    "    sales_df.join(products_df, col(\"p.ProductID\") == col(\"s.ProductID\"), \"left\")\n",
    "    .withColumn(\"ProfitPerUnit\", round(col(\"p.UnitPrice\") - col(\"p.ProductionCost\"), 2))\n",
    "    .withColumn(\"TotalProfit\", round(col(\"s.QuantitySold\") * col(\"ProfitPerUnit\"), 2))\n",
    ")\n",
    "\n",
    "# -----------------------------------------\n",
    "# Fill missing / invalid data\n",
    "# -----------------------------------------\n",
    "sales_enriched = sales_enriched.fillna({\n",
    "    \"SalesChannel\": \"Unknown\",\n",
    "    \"Region\": \"Unspecified\"\n",
    "})\n",
    "\n",
    "# -----------------------------------------\n",
    "# Convert to Pandas safely\n",
    "# -----------------------------------------\n",
    "# Cast SaleDate to string to avoid Spark DateTimeException\n",
    "sales_enriched = sales_enriched.withColumn(\"SaleDate\", col(\"SaleDate\").cast(\"string\"))\n",
    "\n",
    "sales_enriched_pd = sales_enriched.toPandas()\n",
    "\n",
    "# -----------------------------------------\n",
    "# Save to CSV\n",
    "# -----------------------------------------\n",
    "\n",
    "sales_enriched_pd.to_csv(\"../data-warehouse/cleaned_sales.csv\", index=False)\n",
    "\n",
    "sales_enriched_pd.to_csv(\"../data-warehouse/cleaned_sales.csv\", index=False)\n",
    "\n",
    "print(\"Sales data cleaned and saved successfully!\")\n"
   ]
  },
  {
   "cell_type": "code",
   "execution_count": null,
   "id": "00bde3bb",
   "metadata": {},
   "outputs": [],
   "source": []
  },
  {
   "cell_type": "code",
   "execution_count": null,
   "id": "b82d6a30",
   "metadata": {},
   "outputs": [],
   "source": [
    "import sys\n",
    "print(sys.executable)  # To verify the Python environment used"
   ]
  }
 ],
 "metadata": {
  "kernelspec": {
   "display_name": "base",
   "language": "python",
   "name": "python3"
  },
  "language_info": {
   "codemirror_mode": {
    "name": "ipython",
    "version": 3
   },
   "file_extension": ".py",
   "mimetype": "text/x-python",
   "name": "python",
   "nbconvert_exporter": "python",
   "pygments_lexer": "ipython3",
   "version": "3.12.3"
  }
 },
 "nbformat": 4,
 "nbformat_minor": 5
}
